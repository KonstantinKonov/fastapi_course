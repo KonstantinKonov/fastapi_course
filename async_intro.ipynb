{
 "cells": [
  {
   "cell_type": "code",
   "execution_count": 14,
   "metadata": {},
   "outputs": [],
   "source": [
    "import time \n",
    "import asyncio"
   ]
  },
  {
   "cell_type": "code",
   "execution_count": 26,
   "metadata": {},
   "outputs": [],
   "source": [
    "async def get_data_from_database_async(query: str):\n",
    "    print(f'Запрос получен: {query}')\n",
    "    if query == 'Физика':\n",
    "        await asyncio.sleep(5)\n",
    "        res = 'физика query'\n",
    "    elif query == 'Математика':\n",
    "        await asyncio.sleep(2)\n",
    "        res = 'математика query'\n",
    "    print(f'Получены данные: {query}')\n",
    "    return res"
   ]
  },
  {
   "cell_type": "code",
   "execution_count": 27,
   "metadata": {},
   "outputs": [
    {
     "name": "stdout",
     "output_type": "stream",
     "text": [
      "Запрос получен: Математика\n",
      "Получены данные: Математика\n",
      "Запрос получен: Физика\n",
      "Получены данные: Физика\n"
     ]
    },
    {
     "data": {
      "text/plain": [
       "'физика query'"
      ]
     },
     "execution_count": 27,
     "metadata": {},
     "output_type": "execute_result"
    }
   ],
   "source": [
    "await get_data_from_database_async('Математика')\n",
    "await get_data_from_database_async('Физика')"
   ]
  },
  {
   "cell_type": "code",
   "execution_count": 28,
   "metadata": {},
   "outputs": [
    {
     "name": "stdout",
     "output_type": "stream",
     "text": [
      "Запрос получен: Математика\n",
      "Запрос получен: Физика\n",
      "Получены данные: Математика\n",
      "Получены данные: Физика\n"
     ]
    }
   ],
   "source": [
    "res_1, res_2 = await asyncio.gather(\n",
    "    get_data_from_database_async('Математика'),\n",
    "    get_data_from_database_async('Физика')\n",
    ")"
   ]
  },
  {
   "cell_type": "code",
   "execution_count": 29,
   "metadata": {},
   "outputs": [
    {
     "data": {
      "text/plain": [
       "('математика query', 'физика query')"
      ]
     },
     "execution_count": 29,
     "metadata": {},
     "output_type": "execute_result"
    }
   ],
   "source": [
    "res_1, res_2"
   ]
  },
  {
   "cell_type": "code",
   "execution_count": 30,
   "metadata": {},
   "outputs": [
    {
     "name": "stdout",
     "output_type": "stream",
     "text": [
      "Запрос получен: Физика\n",
      "Запрос получен: Математика\n",
      "Получены данные: Математика\n",
      "Получены данные: Физика\n"
     ]
    }
   ],
   "source": [
    "task_1 = asyncio.create_task(get_data_from_database_async('Физика'))\n",
    "task_2 = asyncio.create_task(get_data_from_database_async('Математика'))"
   ]
  },
  {
   "cell_type": "code",
   "execution_count": 33,
   "metadata": {},
   "outputs": [
    {
     "data": {
      "text/plain": [
       "'физика query'"
      ]
     },
     "execution_count": 33,
     "metadata": {},
     "output_type": "execute_result"
    }
   ],
   "source": [
    "task_1.result()"
   ]
  },
  {
   "cell_type": "code",
   "execution_count": null,
   "metadata": {},
   "outputs": [],
   "source": []
  }
 ],
 "metadata": {
  "kernelspec": {
   "display_name": "venv",
   "language": "python",
   "name": "python3"
  },
  "language_info": {
   "codemirror_mode": {
    "name": "ipython",
    "version": 3
   },
   "file_extension": ".py",
   "mimetype": "text/x-python",
   "name": "python",
   "nbconvert_exporter": "python",
   "pygments_lexer": "ipython3",
   "version": "3.12.3"
  }
 },
 "nbformat": 4,
 "nbformat_minor": 2
}
